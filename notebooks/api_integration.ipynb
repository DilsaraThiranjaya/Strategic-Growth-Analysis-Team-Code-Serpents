{
 "cells": [
  {
   "metadata": {},
   "cell_type": "code",
   "outputs": [],
   "execution_count": null,
   "source": "",
   "id": "67326f65a82a4866"
  },
  {
   "metadata": {},
   "cell_type": "code",
   "outputs": [],
   "execution_count": null,
   "source": "",
   "id": "dae76420872b2483"
  }
 ],
 "metadata": {},
 "nbformat": 4,
 "nbformat_minor": 5
}
