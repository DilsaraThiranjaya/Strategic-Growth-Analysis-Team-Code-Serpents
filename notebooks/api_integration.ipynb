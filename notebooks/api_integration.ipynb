{
 "cells": [
  {
   "metadata": {},
   "cell_type": "markdown",
   "source": [
    "# Phase 5: Data Enrichment via API Integration\n",
    "\n",
    "## Currency Conversion Analysis for 'Unique Gifts Ltd.'\n",
    "\n",
    "This notebook implements Phase 5 of the 'Unique Gifts Ltd.' data analysis project, focusing on enriching our transactional data with currency conversion capabilities. We will integrate with a currency exchange API to convert our top transactions from GBP to USD and EUR.\n",
    "\n",
    "### Learning Objectives:\n",
    "- Understand API integration using Python's `requests` library\n",
    "- Learn to handle API responses and errors gracefully\n",
    "- Apply real-time data enrichment to existing datasets\n",
    "- Create reusable functions for data transformation\n",
    "\n",
    "### Business Context:\n",
    "As Unique Gifts Ltd. expands internationally, understanding transaction values in multiple currencies becomes crucial for:\n",
    "- International pricing strategies\n",
    "- Cross-border financial analysis\n",
    "- Global market comparison\n",
    "- Investment decision-making"
   ],
   "id": "50ae69e99b269d6f"
  },
  {
   "metadata": {},
   "cell_type": "markdown",
   "source": [
    "## 1. Import Required Libraries\n",
    "\n",
    "We'll start by importing the necessary libraries for this phase of analysis."
   ],
   "id": "561f22703286780d"
  },
  {
   "metadata": {
    "ExecuteTime": {
     "end_time": "2025-08-20T13:56:00.074798Z",
     "start_time": "2025-08-20T13:55:59.832693Z"
    }
   },
   "cell_type": "code",
   "source": [
    "# Data manipulation libraries\n",
    "import pandas as pd\n",
    "import numpy as np\n",
    "\n",
    "# Libraries for API integration\n",
    "import requests\n",
    "import json\n",
    "import time\n",
    "from datetime import datetime\n",
    "\n",
    "# Data visualization libraries\n",
    "import matplotlib.pyplot as plt\n",
    "import seaborn as sns\n",
    "\n",
    "# Standard libraries (system operations and warning handling)\n",
    "import warnings\n",
    "\n",
    "warnings.filterwarnings('ignore')\n",
    "\n",
    "#\n",
    "pd.set_option('display.max_columns', None)\n",
    "pd.set_option('display.width', None)\n",
    "pd.set_option('display.max_colwidth', 50)\n",
    "\n",
    "print('All required libraries have been imported.')\n",
    "print('Pandas version:', pd.__version__)\n",
    "print('Numpy version:', np.__version__)\n",
    "print('Requests version:', requests.__version__)\n",
    "print('Matplotlib version:', plt.matplotlib.__version__)\n",
    "print('Seaborn version:', sns.__version__)"
   ],
   "id": "2c3406baa84e9a44",
   "outputs": [
    {
     "name": "stdout",
     "output_type": "stream",
     "text": [
      "All required libraries have been imported.\n",
      "Pandas version: 2.3.1\n",
      "Numpy version: 2.3.2\n",
      "Requests version: 2.32.4\n",
      "Matplotlib version: 3.10.5\n",
      "Seaborn version: 0.13.2\n"
     ]
    }
   ],
   "execution_count": 1
  },
  {
   "metadata": {},
   "cell_type": "markdown",
   "source": [
    "## 2. Load Cleaned Dataset\n",
    "\n",
    "We'll load the cleaned dataset that should have been prepared in the previous phases. This assumes that data cleaning, preprocessing, and basic analysis have already been completed."
   ],
   "id": "4e004f2146ce06b9"
  },
  {
   "metadata": {
    "ExecuteTime": {
     "end_time": "2025-08-20T13:56:00.088082Z",
     "start_time": "2025-08-20T13:56:00.080816Z"
    }
   },
   "cell_type": "code",
   "source": [
    "# Load the cleaned dataset from a CSV file\n",
    "try:\n",
    "    df_clean = pd.read_csv('../data/online_retail_clean.csv')\n",
    "    print('Cleaned data file loaded successfully.')\n",
    "\n",
    "    # Display basic information about the Dataset\n",
    "    print()\n",
    "    print(\"Dataset Overview:\")\n",
    "    print(f\"    - Shape: {df_clean.shape}\")\n",
    "    print(f\"    - Columns: {list(df_clean.columns)}\")\n",
    "    print(f\"    - Date Range: {df_clean['InvoiceDate'].min()} to {df_clean['InvoiceDate'].max()}\")\n",
    "\n",
    "except FileNotFoundError:\n",
    "    print('Cleaned Data File Not Found. Please ensure file exists or path is correct.')"
   ],
   "id": "cb44612e8c8b7225",
   "outputs": [
    {
     "name": "stdout",
     "output_type": "stream",
     "text": [
      "Cleaned data file loaded successfully.\n",
      "\n",
      "Dataset Overview:\n",
      "    - Shape: (13, 13)\n",
      "    - Columns: ['Invoice', 'StockCode', 'Description', 'Quantity', 'InvoiceDate', 'Price', 'Customer ID', 'Country', 'TotalPrice', 'Year', 'Month', 'DayOfWeek', 'HourOfDay']\n",
      "    - Date Range: 2009-12-01 07:45:00 to 2009-12-01 09:06:00\n"
     ]
    }
   ],
   "execution_count": 2
  },
  {
   "metadata": {},
   "cell_type": "markdown",
   "source": [
    "## 3. Identify the Top 100 Transactions\n",
    "\n",
    "We'll identify the top 100 transactions by TotalPrice value, as specified in the project requirements. These high-value transactions are most important for currency conversion analysis."
   ],
   "id": "7ead191c4635b660"
  },
  {
   "metadata": {
    "ExecuteTime": {
     "end_time": "2025-08-20T13:56:00.103181Z",
     "start_time": "2025-08-20T13:56:00.096530Z"
    }
   },
   "cell_type": "code",
   "source": [
    "# Ensure 'TotalPrice' column exists in the DataFrame\n",
    "\n",
    "if 'TotalPrice' not in df_clean.columns:\n",
    "    df_clean['TotalPrice'] = df_clean['Quantity'] * df_clean['Price']\n",
    "    print('TotalPrice column created.')\n",
    "\n",
    "top_100_transactions = df_clean.nlargest(100, 'TotalPrice').copy()\n",
    "\n",
    "print(\"Top 100 Transactions Analysis:\")\n",
    "print(f\"   - Highest transaction value: £{top_100_transactions['TotalPrice'].max():.2f}\")\n",
    "print(f\"   - Lowest transaction value in top 100: £{top_100_transactions['TotalPrice'].min():.2f}\")\n",
    "print(f\"   - Average transaction value: £{top_100_transactions['TotalPrice'].mean():.2f}\")\n",
    "print(f\"   - Total value of top 100: £{top_100_transactions['TotalPrice'].sum():.2f}\")"
   ],
   "id": "6f851e53eeb37cd0",
   "outputs": [
    {
     "name": "stdout",
     "output_type": "stream",
     "text": [
      "Top 100 Transactions Analysis:\n",
      "   - Highest transaction value: £100.80\n",
      "   - Lowest transaction value in top 100: £30.00\n",
      "   - Average transaction value: £54.66\n",
      "   - Total value of top 100: £710.60\n"
     ]
    }
   ],
   "execution_count": 3
  },
  {
   "metadata": {},
   "cell_type": "markdown",
   "source": [
    "## 4. Currency Conversion API Integration\n",
    "\n",
    "### 4.1 API Configuration and Helper Functions\n",
    "\n",
    "We'll use 'ExchangeRate-API', a free currency conversion service. This section includes:\n",
    "- API configuration\n",
    "- Error handling functions\n",
    "- Rate limiting to respect API limits"
   ],
   "id": "bcea4fd1c418254b"
  },
  {
   "metadata": {
    "ExecuteTime": {
     "end_time": "2025-08-20T13:56:00.117708Z",
     "start_time": "2025-08-20T13:56:00.112302Z"
    }
   },
   "cell_type": "code",
   "source": [
    "# API Configuration\n",
    "\n",
    "API_BASE_URL = 'https://v6.exchangerate-api.com/v6/679cea4bfe60efe64fe59613/latest/'\n",
    "BASE_CURRENCY = 'GBP'\n",
    "TARGET_CURRENCIES = ['USD', 'EUR']\n",
    "\n",
    "def fetch_exchange_rates(base_currency='GBP', retries=3, delay=1):\n",
    "    url = f\"{API_BASE_URL}{base_currency}\"\n",
    "\n",
    "    for attempt in range(retries):\n",
    "        try:\n",
    "            print(f\"Fetching exchange rates (attempt {attempt + 1}/{retries})...\")\n",
    "\n",
    "            response = requests.get(url)\n",
    "            response.raise_for_status()\n",
    "\n",
    "            data = response.json()\n",
    "\n",
    "            # Validate response structure\n",
    "            if 'rates' in data and 'date' in data:\n",
    "                print(f\"Successfully fetched rates for {data['data']}\")\n",
    "                return data\n",
    "            else:\n",
    "                print(\"Unexpected API response format.\")\n",
    "                return None\n",
    "\n",
    "        except requests.exceptions.RequestException as e:\n",
    "            print(f\"API request failed (attempt {attempt + 1}): {str(e)}\")\n",
    "\n",
    "            if attempt < retries - 1:\n",
    "                print(f\"Waiting {delay} seconds before retrying...\")\n",
    "                time.sleep(delay)\n",
    "            else:\n",
    "                print(\"Max retries exceeded. Exiting...\")\n",
    "                return None\n",
    "\n",
    "        except json.JSONDecodeError as e:\n",
    "            print(f\"JSON decode error: {str(e)}\")\n",
    "            return None\n",
    "\n",
    "    return None\n",
    "\n",
    "def convert_currency(amount, from_currency, to_currency, exchange_rates):\n",
    "    try:\n",
    "        if from_currency == to_currency:\n",
    "            return amount\n",
    "\n",
    "        if to_currency in exchange_rates['rates']:\n",
    "            converted_amount = amount * exchange_rates['rates'][to_currency]\n",
    "            return round(converted_amount, 2)\n",
    "        else:\n",
    "            print(f\"Exchange rate for {to_currency} not found in the API response.\")\n",
    "            return None\n",
    "\n",
    "    except (KeyError, TypeError, ValueError) as e:\n",
    "        print(f\"Currency conversion error: {str(e)}\")\n",
    "        return None"
   ],
   "id": "a595dbf5a49287c3",
   "outputs": [],
   "execution_count": 4
  },
  {
   "metadata": {},
   "cell_type": "markdown",
   "source": [
    "### 4.2 Fetch Current Exchange Rates\n",
    "\n",
    "Let's fetch the current exchange rates from the API. We'll implement proper error handling to ensure our analysis can continue even if the API is temporarily unavailable."
   ],
   "id": "27762ebdc205ab47"
  },
  {
   "metadata": {
    "ExecuteTime": {
     "end_time": "2025-08-20T13:56:01.195219Z",
     "start_time": "2025-08-20T13:56:00.126762Z"
    }
   },
   "cell_type": "code",
   "source": [
    "# Fetch current exchange rates\n",
    "exchange_data = fetch_exchange_rates(BASE_CURRENCY)\n",
    "\n",
    "if exchange_data:\n",
    "    rates = exchange_data['rates']\n",
    "    rate_date = exchange_data['date']\n",
    "\n",
    "    print(f\"Exchange rates fetched on {rate_date}.\")\n",
    "    print(f\"Base currency: {BASE_CURRENCY}\")\n",
    "\n",
    "    for currency in TARGET_CURRENCIES:\n",
    "        if currency in rates:\n",
    "            print(f\"Exchange rate for {currency}: {rates[currency]}\")\n",
    "        else:\n",
    "            print(f\"Exchange rate for {currency} not found in the API response.\")\n",
    "\n",
    "else:\n",
    "    print(\"Failed to fetch exchange rates. Please check your API configuration or network connection.\")\n",
    "\n",
    "    # Fallback rates (approximate values)\n",
    "    exchange_data = {\n",
    "        'date': datetime.now().strftime('%Y-%m-%d'),\n",
    "        'base': BASE_CURRENCY,\n",
    "        'rates': {\n",
    "            'USD': 1.25,\n",
    "            'EUR': 1.15\n",
    "        }\n",
    "    }\n",
    "\n",
    "    rates = exchange_data['rates']\n",
    "    rate_date = exchange_data['date']\n",
    "\n",
    "    print(f\"Using fallback exchange rates for {rate_date}.\")\n",
    "\n",
    "    for currency in TARGET_CURRENCIES:\n",
    "        print(f\"Fallback exchange rate for {currency}: {rates[currency]}\")"
   ],
   "id": "68eb5485b4ad29ee",
   "outputs": [
    {
     "name": "stdout",
     "output_type": "stream",
     "text": [
      "Fetching exchange rates (attempt 1/3)...\n",
      "Unexpected API response format.\n",
      "Failed to fetch exchange rates. Please check your API configuration or network connection.\n",
      "Using fallback exchange rates for 2025-08-20.\n",
      "Fallback exchange rate for USD: 1.25\n",
      "Fallback exchange rate for EUR: 1.15\n"
     ]
    }
   ],
   "execution_count": 5
  },
  {
   "metadata": {},
   "cell_type": "markdown",
   "source": [
    "## 5. Apply Currency Conversion to Top 100 Transactions\n",
    "\n",
    "Now we'll apply the currency conversion to our top 100 transactions, creating new columns for USD and EUR values."
   ],
   "id": "64609f1774f65038"
  },
  {
   "metadata": {
    "ExecuteTime": {
     "end_time": "2025-08-20T13:56:01.262537Z",
     "start_time": "2025-08-20T13:56:01.256244Z"
    }
   },
   "cell_type": "code",
   "source": [
    "# Create a copy of the top 100 transactions for currency conversion\n",
    "top_100_with_currency = top_100_transactions.copy()\n",
    "\n",
    "# Add exchange rate information\n",
    "top_100_with_currency['ExchangeRateDate'] = rate_date\n",
    "top_100_with_currency['GBP_to_USD_Rate'] = rates.get('USD', None)\n",
    "top_100_with_currency['GBP_to_EUR_Rate'] = rates.get('EUR', None)\n",
    "\n",
    "# Convert TotalPrice to USD and EUR\n",
    "print(f\"Converting transaction values to multiple currencies...\")\n",
    "\n",
    "# USD Conversion\n",
    "if 'USD' in rates:\n",
    "    top_100_with_currency['TotalPrice_USD'] = top_100_with_currency['TotalPrice'].apply(\n",
    "        lambda x: convert_currency(x, 'GBP', 'USD', exchange_data)\n",
    "    )\n",
    "    print(f\"Successfully converted TotalPrice to USD.\")\n",
    "\n",
    "else:\n",
    "    top_100_with_currency['TotalPrice_USD'] = None\n",
    "    print(\"Exchange rate for USD not found in the API response.\")\n",
    "\n",
    "# EUR Conversion\n",
    "if 'EUR' in rates:\n",
    "    top_100_with_currency['TotalPrice_EUR'] = top_100_with_currency['TotalPrice'].apply(\n",
    "        lambda x: convert_currency(x, 'GBP', 'EUR', exchange_data)\n",
    "    )\n",
    "    print(f\"Successfully converted TotalPrice to EUR.\")\n",
    "\n",
    "else:\n",
    "    top_100_with_currency['TotalPrice_EUR'] = None\n",
    "    print(\"Exchange rate for EUR not found in the API response.\")\n",
    "\n",
    "# Display conversion summary\n",
    "print(f\"Currency Conversion Summary:\")\n",
    "print(f\"    - Original GBP total: £{top_100_with_currency['TotalPrice'].sum():.2f}\")\n",
    "\n",
    "if top_100_with_currency['TotalPrice_USD'].notna().any():\n",
    "    usd_total = top_100_with_currency['TotalPrice_USD'].sum()\n",
    "    print(f\"    - Converted USD total: ${usd_total:.2f}\")\n",
    "\n",
    "if top_100_with_currency['TotalPrice_EUR'].notna().any():\n",
    "    eur_total = top_100_with_currency['TotalPrice_EUR'].sum()\n",
    "    print(f\"    - Converted EUR total: €{eur_total:.2f}\")"
   ],
   "id": "21605c6d98cab0b9",
   "outputs": [
    {
     "name": "stdout",
     "output_type": "stream",
     "text": [
      "Converting transaction values to multiple currencies...\n",
      "Successfully converted TotalPrice to USD.\n",
      "Successfully converted TotalPrice to EUR.\n",
      "Currency Conversion Summary:\n",
      "    - Original GBP total: £710.60\n",
      "    - Converted USD total: $888.26\n",
      "    - Converted EUR total: €817.18\n"
     ]
    }
   ],
   "execution_count": 6
  },
  {
   "metadata": {},
   "cell_type": "markdown",
   "source": [
    "## 6. Data Validation and Quality Checks\n",
    "\n",
    "It's important to validate our currency conversion results to ensure accuracy and identify any potential issues."
   ],
   "id": "dbe103f22480140e"
  },
  {
   "metadata": {
    "ExecuteTime": {
     "end_time": "2025-08-20T13:56:01.278165Z",
     "start_time": "2025-08-20T13:56:01.269246Z"
    }
   },
   "cell_type": "code",
   "source": [
    "# Check for any conversion failures\n",
    "usd_failures = top_100_with_currency['TotalPrice_USD'].isna().sum()\n",
    "eur_failures = top_100_with_currency['TotalPrice_EUR'].isna().sum()\n",
    "total_transactions = len(top_100_with_currency)\n",
    "\n",
    "print(f\"Convertion Quality Report:\")\n",
    "print(f\"    - Total transactional processed: {total_transactions}\")\n",
    "print(f\"    - USD conversion failures: {usd_failures}\")\n",
    "print(f\"    - EUR conversion failures: {eur_failures}\")\n",
    "print(f\"    - Success rate: {(total_transactions - usd_failures - eur_failures) / total_transactions * 100:.2f}%\")\n",
    "\n",
    "# Check if any values that might indicate errors\n",
    "if top_100_with_currency['TotalPrice_USD'].notna().any():\n",
    "    usd_values = top_100_with_currency['TotalPrice_USD'].dropna()\n",
    "    usd_mean = usd_values.mean()\n",
    "    usd_std = usd_values.std()\n",
    "    outliers_usd = usd_values[(usd_values > usd_mean + 3 * usd_std) | (usd_values < usd_mean - 3 * usd_std)]\n",
    "    print(f\"    - USD outliers found: {len(outliers_usd)}\")\n",
    "\n",
    "if top_100_with_currency['TotalPrice_EUR'].notna().any():\n",
    "    eur_values = top_100_with_currency['TotalPrice_EUR'].dropna()\n",
    "    eur_mean = eur_values.mean()\n",
    "    eur_std = eur_values.std()\n",
    "    outliers_eur = eur_values[(eur_values > eur_mean + 3 * eur_std) | (eur_values < eur_mean - 3 * eur_std)]\n",
    "    print(f\"    - EUR outliers found: {len(outliers_eur)}\")\n",
    "\n",
    "print()\n",
    "print(\"Data validation completed\")"
   ],
   "id": "b6dc439040d314f3",
   "outputs": [
    {
     "name": "stdout",
     "output_type": "stream",
     "text": [
      "Convertion Quality Report:\n",
      "    - Total transactional processed: 13\n",
      "    - USD conversion failures: 0\n",
      "    - EUR conversion failures: 0\n",
      "    - Success rate: 100.00%\n",
      "    - USD outliers found: 0\n",
      "    - EUR outliers found: 0\n",
      "\n",
      "Data validation completed\n"
     ]
    }
   ],
   "execution_count": 7
  },
  {
   "metadata": {},
   "cell_type": "markdown",
   "source": [
    "## 7. Display Results and Analysis\n",
    "\n",
    "Let's examine our currency-converted data and display the results in a meaningful way."
   ],
   "id": "5579e4793369bb08"
  },
  {
   "metadata": {
    "ExecuteTime": {
     "end_time": "2025-08-20T13:56:01.295679Z",
     "start_time": "2025-08-20T13:56:01.285320Z"
    }
   },
   "cell_type": "code",
   "source": [
    "# Display the top 10 transactions for demonstration purposes\n",
    "print(\"Top 10 Transactions with Currency Conversion:\")\n",
    "print(\"=\" * 50)\n",
    "\n",
    "display_columns = ['Invoice', 'TotalPrice', 'TotalPrice_USD', 'TotalPrice_EUR']\n",
    "\n",
    "if 'Country' in top_100_with_currency.columns:\n",
    "    display_columns.insert(1, 'Country')\n",
    "\n",
    "if 'InvoiceDate' in top_100_with_currency.columns:\n",
    "    display_columns.insert(1, 'InvoiceDate')\n",
    "\n",
    "# Select the top 10 transactions\n",
    "top_10_display = top_100_with_currency[display_columns].head(10).copy()\n",
    "\n",
    "# Format the currency columns for better readability\n",
    "if 'TotalPrice' in top_10_display.columns:\n",
    "    top_10_display['TotalPrice_GBP'] = top_10_display['TotalPrice'].apply(lambda x: f\"£{x:.2f}\")\n",
    "\n",
    "if 'TotalPrice_USD' in top_10_display.columns:\n",
    "    top_10_display['TotalPrice_USD_formatted'] = top_10_display['TotalPrice_USD'].apply(lambda x: f\"${x:.2f}\" if pd.notna(x) else \"N/A\")\n",
    "\n",
    "if 'TotalPrice_EUR' in top_10_display.columns:\n",
    "    top_10_display['TotalPrice_EUR_formatted'] = top_10_display['TotalPrice_EUR'].apply(lambda x: f\"€{x:.2f}\" if pd.notna(x) else \"N/A\")\n",
    "\n",
    "# Display formatted results\n",
    "print(top_10_display[['Invoice', 'TotalPrice_GBP', 'TotalPrice_USD_formatted', 'TotalPrice_EUR_formatted']].to_string(index=False))"
   ],
   "id": "6fc33bdb56ddc852",
   "outputs": [
    {
     "name": "stdout",
     "output_type": "stream",
     "text": [
      "Top 10 Transactions with Currency Conversion:\n",
      "==================================================\n",
      " Invoice TotalPrice_GBP TotalPrice_USD_formatted TotalPrice_EUR_formatted\n",
      "  489434        £100.80                  $126.00                  €115.92\n",
      "  489434         £83.40                  $104.25                   €95.91\n",
      "  489434         £81.00                  $101.25                   €93.15\n",
      "  489434         £81.00                  $101.25                   €93.15\n",
      "  489434         £59.50                   $74.38                   €68.42\n",
      "  489436         £59.50                   $74.38                   €68.42\n",
      "  489435         £45.00                   $56.25                   €51.75\n",
      "  489435         £39.60                   $49.50                   €45.54\n",
      "  489434         £39.60                   $49.50                   €45.54\n",
      "  489435         £30.60                   $38.25                   €35.19\n"
     ]
    }
   ],
   "execution_count": 8
  },
  {
   "metadata": {},
   "cell_type": "markdown",
   "source": [
    "## 8. Statistical Summary and Comparison\n",
    "\n",
    "Let's generate comprehensive statistics comparing the values across different currencies."
   ],
   "id": "4d985eac5e336ef"
  },
  {
   "metadata": {
    "ExecuteTime": {
     "end_time": "2025-08-20T13:56:01.314567Z",
     "start_time": "2025-08-20T13:56:01.302055Z"
    }
   },
   "cell_type": "code",
   "source": [
    "# Generate summary statistics\n",
    "print(\"Statistical Summary Across Currencies:\")\n",
    "print(\"=\" * 50)\n",
    "\n",
    "# Calculate statistics for each currency\n",
    "currencies = ['GBP', 'USD', 'EUR']\n",
    "currency_columns = ['TotalPrice', 'TotalPrice_USD', 'TotalPrice_EUR']\n",
    "currency_symbols = ['£', '$', '€']\n",
    "\n",
    "stats_summary = {}\n",
    "\n",
    "for currency, column, symbol in zip(currencies, currency_columns, currency_symbols):\n",
    "    if column in top_100_with_currency.columns:\n",
    "        values = top_100_with_currency[column].dropna()\n",
    "\n",
    "        if not values.empty:\n",
    "            stats_summary[currency] = {\n",
    "                'count': len(values),\n",
    "                'mean': values.mean(),\n",
    "                'median': values.median(),\n",
    "                'std': values.std(),\n",
    "                'min': values.min(),\n",
    "                'max': values.max(),\n",
    "                'total': values.sum(),\n",
    "                'symbol': symbol\n",
    "            }\n",
    "\n",
    "# Display formatted table\n",
    "if stats_summary:\n",
    "    print(f\"{'Metric':<10} {'GBP':<15} {'USD':<15} {'EUR':<15}\")\n",
    "    print(\"-\" * 55)\n",
    "\n",
    "    metrics = ['count', 'mean', 'median', 'std', 'min', 'max', 'total']\n",
    "    metric_names = ['Count', 'Mean', 'Median', 'Std Dev', 'Minimum', 'Maximum', 'Total']\n",
    "\n",
    "    for metric, name in zip(metrics, metric_names):\n",
    "        row = f\"{name:<10}\"\n",
    "\n",
    "        for currency in currencies:\n",
    "            if currency in stats_summary:\n",
    "                if metric == 'count':\n",
    "                    value = f\"{stats_summary[currency][metric]}\"\n",
    "                else:\n",
    "                    symbol = stats_summary[currency]['symbol']\n",
    "                    value = f\"{symbol}{stats_summary[currency][metric]:,.2f}\"\n",
    "\n",
    "                row += f\" {value:<15}\"\n",
    "\n",
    "            else:\n",
    "                row += f\" {'N/A':<15}\"\n",
    "\n",
    "        print(row)"
   ],
   "id": "745530209ffa0109",
   "outputs": [
    {
     "name": "stdout",
     "output_type": "stream",
     "text": [
      "Statistical Summary Across Currencies:\n",
      "==================================================\n",
      "Metric     GBP             USD             EUR            \n",
      "-------------------------------------------------------\n",
      "Count      13              13              13             \n",
      "Mean       £54.66          $68.33          €62.86         \n",
      "Median     £45.00          $56.25          €51.75         \n",
      "Std Dev    £24.68          $30.85          €28.38         \n",
      "Minimum    £30.00          $37.50          €34.50         \n",
      "Maximum    £100.80         $126.00         €115.92        \n",
      "Total      £710.60         $888.26         €817.18        \n"
     ]
    }
   ],
   "execution_count": 9
  },
  {
   "metadata": {},
   "cell_type": "markdown",
   "source": [
    "## 9. Visualization of Currency Conversions\n",
    "\n",
    "Create visualizations to better understand the currency conversion results."
   ],
   "id": "5d3adcb6bef3a6d"
  },
  {
   "metadata": {
    "ExecuteTime": {
     "end_time": "2025-08-20T13:56:01.622812Z",
     "start_time": "2025-08-20T13:56:01.327833Z"
    }
   },
   "cell_type": "code",
   "source": [
    "# Create visualizations for currency comparison\n",
    "plt.style.use('default')\n",
    "fig, axes = plt.subplots(2, 2, figsize=(15,12))\n",
    "fig.suptitle('Currency Conversion Analysis - Top 100 Transactions', fontsize=16, fontweight='bold')\n",
    "\n",
    "# 1. Compare of transaction values across currencies\n",
    "ax1 = axes[0, 0]\n",
    "currency_data = []\n",
    "currency_labels = []\n",
    "\n",
    "if 'TotalPrice' in top_100_with_currency.columns:\n",
    "    currency_data.append(top_100_with_currency['TotalPrice'].dropna())\n",
    "    currency_labels.append('GBP (£)')\n",
    "\n",
    "if 'TotalPrice_USD' in top_100_with_currency.columns:\n",
    "    usd_data = top_100_with_currency['TotalPrice_USD'].dropna()\n",
    "\n",
    "    if not usd_data.empty:\n",
    "        currency_data.append(usd_data)\n",
    "        currency_labels.append('USD ($)')\n",
    "\n",
    "if 'TotalPrice_EUR' in top_100_with_currency.columns:\n",
    "    eur_data = top_100_with_currency['TotalPrice_EUR'].dropna()\n",
    "\n",
    "    if not eur_data.empty:\n",
    "        currency_data.append(eur_data)\n",
    "        currency_labels.append('EUR (€)')\n",
    "\n",
    "if currency_data:\n",
    "    ax1.boxplot(currency_data, labels=currency_labels)\n",
    "    ax1.set_title('Transaction Value Distribution by Currency')\n",
    "    ax1.set_ylabel('Transaction Value')\n",
    "    ax1.tick_params(axis='x', rotation=45)\n",
    "else:\n",
    "    ax1.text(0.5, 0.5, 'No data available', ha='center', va='center', transform=ax1.transAxes)\n",
    "    ax1.set_title('Transaction Value Distribution - No Data')\n",
    "\n",
    "# 2. Top 10 transactions comparison\n",
    "ax2 = axes[0, 1]\n",
    "top_10 = top_100_with_currency.head(10)\n",
    "x_pos = np.arange(len(top_10))\n",
    "\n",
    "if not top_10.empty:\n",
    "    width = 0.25\n",
    "\n",
    "    if 'TotalPrice' in top_10.columns:\n",
    "        ax2.bar(x_pos - width, top_10['TotalPrice'], width, label='GBP', alpha=0.8)\n",
    "\n",
    "    if 'TotalPrice_USD' in top_10.columns and top_10['TotalPrice_USD'].notna().any():\n",
    "        ax2.bar(x_pos, top_10['TotalPrice_USD'], width, label='USD', alpha=0.8)\n",
    "\n",
    "    if 'TotalPrice_EUR' in top_10.columns and top_10['TotalPrice_EUR'].notna().any():\n",
    "        ax2.bar(x_pos + width, top_10['TotalPrice_EUR'], width, label='EUR', alpha=0.8)\n",
    "\n",
    "    ax2.set_title('Top 10 Transactions - Currency Comparison')\n",
    "    ax2.set_xlabel('Transaction Rank')\n",
    "    ax2.set_ylabel('Value')\n",
    "    ax2.set_xticks(x_pos)\n",
    "    ax2.set_xticklabels([f'#{i+1}' for i in range(len(top_10))])\n",
    "    ax2.legend()\n",
    "    ax2.tick_params(axis='x', rotation=45)\n",
    "\n",
    "else:\n",
    "    ax2.text(0.5, 0.5, 'No data available', ha='center', va='center', transform=ax2.transAxes)\n",
    "    ax2.set_title('Top 10 Transactions - No Data')\n",
    "\n",
    "# 3. Exchange rate visualization\n",
    "ax3 = axes[1, 0]\n",
    "\n",
    "if rates:\n",
    "    rate_currencies = []\n",
    "    rate_values = []\n",
    "\n",
    "    for currency in TARGET_CURRENCIES:\n",
    "        if currency in rates:\n",
    "            rate_currencies.append(f'GBP to {currency}')\n",
    "            rate_values.append(rates[currency])\n",
    "\n",
    "    if rate_currencies:\n",
    "        bars = ax3.bar(rate_currencies, rate_values, color=['lightblue', 'lightcoral'])\n",
    "        ax3.set_title(f'Exchange Rates (Base: GBP)\\nDate: {rate_date}')\n",
    "        ax3.set_ylabel('Exchange Rate')\n",
    "\n",
    "        # Add value labels to bars\n",
    "        for bar, value in zip(bars, rate_values):\n",
    "            ax3.text(bar.get_x() + bar.get_width()/2, bar.get_height() + 0.01,\n",
    "                     f'{value:.4f}', ha='center', va='bottom')\n",
    "\n",
    "    else:\n",
    "        ax3.text(0.5, 0.5, 'No exchange rates available', ha='center', va='center', transform=ax3.transAxes)\n",
    "        ax3.set_title('Exchange Rates - No Data')\n",
    "\n",
    "else:\n",
    "    ax3.text(0.5, 0.5, 'No exchange rates available', ha='center', va='center', transform=ax3.transAxes)\n",
    "    ax3.set_title('Exchange Rates - No Data')\n",
    "\n",
    "# 4. Currency conversion summary pie chart\n",
    "ax4 = axes[1, 1]\n",
    "\n",
    "if stats_summary:\n",
    "    total_values = [stats_summary[currency]['total'] for currency in currencies if currency in stats_summary]\n",
    "    total_labels = [f\"{currency}\\n{stats_summary[currency]['symbol']}{stats_summary[currency]['total']:,.0f}\"\n",
    "                   for currency in currencies if currency in stats_summary]\n",
    "\n",
    "    if total_values:\n",
    "        colors = ['lightblue', 'lightgreen', 'lightcoral']\n",
    "        ax4.pie(total_values, labels=total_labels, autopct='%1.1f%%',\n",
    "               colors=colors[:len(total_values)], startangle=90)\n",
    "        ax4.set_title('Total Value Distribution by Currency')\n",
    "\n",
    "    else:\n",
    "        ax4.text(0.5, 0.5, 'No data for pie chart', ha='center', va='center', transform=ax4.transAxes)\n",
    "        ax4.set_title('Total Value Distribution - No Data')\n",
    "\n",
    "else:\n",
    "    ax4.text(0.5, 0.5, 'No data for pie chart', ha='center', va='center', transform=ax4.transAxes)\n",
    "    ax4.set_title('Total Value Distribution - No Data')\n",
    "\n",
    "plt.tight_layout()\n",
    "plt.show()"
   ],
   "id": "2fdd8586e7e7e574",
   "outputs": [
    {
     "data": {
      "text/plain": [
       "<Figure size 1500x1200 with 4 Axes>"
      ],
      "image/png": "[encoded data removed]"
     },
     "metadata": {},
     "output_type": "display_data"
    }
   ],
   "execution_count": 10
  },
  {
   "metadata": {},
   "cell_type": "markdown",
   "source": [
    "## 10. Export Results and Summary\n",
    "\n",
    "Save our results and create a summary for integration with other phases of the project."
   ],
   "id": "2e36020667cabedb"
  },
  {
   "metadata": {
    "ExecuteTime": {
     "end_time": "2025-08-20T13:56:01.639087Z",
     "start_time": "2025-08-20T13:56:01.630711Z"
    }
   },
   "cell_type": "code",
   "source": [
    "# Export the enriched dataset\n",
    "output_file = '../data/top_100_transactions_with_currency.csv'\n",
    "\n",
    "try:\n",
    "    top_100_with_currency.to_csv(output_file, index=False)\n",
    "    print(f\"Results exported to '{output_file}'.\")\n",
    "\n",
    "except Exception as e:\n",
    "    print(f\"Error exporting results: {str(e)}\")\n",
    "\n",
    "\n",
    "# Create a summary report\n",
    "summary_report = {\n",
    "    'analysis_date': datetime.now().strftime('%Y-%m-%d %H:%M:%S'),\n",
    "    'exchange_rate_date': rate_date,\n",
    "    'base_currency': BASE_CURRENCY,\n",
    "    'target_currencies': TARGET_CURRENCIES,\n",
    "    'transactions_processed': len(top_100_with_currency),\n",
    "    'api_status': 'success' if exchange_data else 'fallback',\n",
    "    'exchange_rates': rates,\n",
    "    'summary_statistics': stats_summary\n",
    "}\n",
    "\n",
    "# Save the summary report to a JSON file\n",
    "summary_file = '../data/currency_conversion_summary.json'\n",
    "\n",
    "try:\n",
    "    with open(summary_file, 'w') as f:\n",
    "        json.dump(summary_report, f, indent=2, default=str)\n",
    "\n",
    "    print(f\"Summary report saved to '{summary_file}'.\")\n",
    "\n",
    "except Exception as e:\n",
    "    print(f\"Error saving summary report: {str(e)}\")"
   ],
   "id": "593f9944c9c76c3f",
   "outputs": [
    {
     "name": "stdout",
     "output_type": "stream",
     "text": [
      "Results exported to '../data/top_100_transactions_with_currency.csv'.\n",
      "Summary report saved to '../data/currency_conversion_summary.json'.\n"
     ]
    }
   ],
   "execution_count": 11
  }
 ],
 "metadata": {
  "kernelspec": {
   "name": "python3",
   "language": "python",
   "display_name": "Python 3 (ipykernel)"
  }
 },
 "nbformat": 4,
 "nbformat_minor": 5
}
