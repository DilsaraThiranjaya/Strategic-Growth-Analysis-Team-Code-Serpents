{
 "cells": [
  {
   "cell_type": "code",
   "execution_count": null,
   "id": "4c629563",
   "metadata": {},
   "outputs": [
    {
     "name": "stdout",
     "output_type": "stream",
     "text": [
      "Data Loaded successfully!         Invoice StockCode                          Description  Quantity  \\\n",
      "0        489434     85048  15CM CHRISTMAS GLASS BALL 20 LIGHTS        12   \n",
      "1        489434    79323P                   PINK CHERRY LIGHTS        12   \n",
      "2        489434    79323W                  WHITE CHERRY LIGHTS        12   \n",
      "3        489434     22041         RECORD FRAME 7\" SINGLE SIZE         48   \n",
      "4        489434     21232       STRAWBERRY CERAMIC TRINKET BOX        24   \n",
      "...         ...       ...                                  ...       ...   \n",
      "1067366  581587     22899         CHILDREN'S APRON DOLLY GIRL          6   \n",
      "1067367  581587     23254        CHILDRENS CUTLERY DOLLY GIRL          4   \n",
      "1067368  581587     23255      CHILDRENS CUTLERY CIRCUS PARADE         4   \n",
      "1067369  581587     22138        BAKING SET 9 PIECE RETROSPOT          3   \n",
      "1067370  581587      POST                              POSTAGE         1   \n",
      "\n",
      "                 InvoiceDate  Price  Customer ID         Country  \n",
      "0        2009-12-01 07:45:00   6.95      13085.0  United Kingdom  \n",
      "1        2009-12-01 07:45:00   6.75      13085.0  United Kingdom  \n",
      "2        2009-12-01 07:45:00   6.75      13085.0  United Kingdom  \n",
      "3        2009-12-01 07:45:00   2.10      13085.0  United Kingdom  \n",
      "4        2009-12-01 07:45:00   1.25      13085.0  United Kingdom  \n",
      "...                      ...    ...          ...             ...  \n",
      "1067366  2011-12-09 12:50:00   2.10      12680.0          France  \n",
      "1067367  2011-12-09 12:50:00   4.15      12680.0          France  \n",
      "1067368  2011-12-09 12:50:00   4.15      12680.0          France  \n",
      "1067369  2011-12-09 12:50:00   4.95      12680.0          France  \n",
      "1067370  2011-12-09 12:50:00  18.00      12680.0          France  \n",
      "\n",
      "[1067371 rows x 8 columns]\n"
     ]
    }
   ],
   "source": [
    "import pandas as pd\n",
    "\n",
    "file_path = 'D:/IJSE/3rd Semester/Python CW/Strategic-Growth-Analysis-Team-Code-Serpents/data/online_retail.csv'\n",
    "\n",
    "d_types = {\n",
    "    'Invoice': 'object',\n",
    "    'StockCode': 'object',\n",
    "    'Description': 'object',\n",
    "    'Quantity': 'int64',\n",
    "    'InvoiceDate': 'object',\n",
    "    'Price': 'float64',\n",
    "    'Customer ID': 'float64',\n",
    "    'Country': 'object'\n",
    "}\n",
    "\n",
    "try:\n",
    "    df = pd.read_csv(file_path, dtype=d_types, encoding=\"ISO-8859-1\")\n",
    "    print(f\"Data Loaded successfully! {df}\")\n",
    "except FileNotFoundError:\n",
    "    print(f\"Error: The file '{file_path}' was not found.\")\n",
    "except ValueError as ve:\n",
    "    print(f\"Data type mismatch : {ve}\")\n",
    "except EncodingWarning as ew:\n",
    "    print(f\"Encoding warning : {ew}\")\n",
    "except Exception as e:\n",
    "    print(f\"Unexpected error : {e}\")"
   ]
  }
 ],
 "metadata": {
  "kernelspec": {
   "display_name": "Python 3",
   "language": "python",
   "name": "python3"
  },
  "language_info": {
   "codemirror_mode": {
    "name": "ipython",
    "version": 3
   },
   "file_extension": ".py",
   "mimetype": "text/x-python",
   "name": "python",
   "nbconvert_exporter": "python",
   "pygments_lexer": "ipython3",
   "version": "3.13.4"
  }
 },
 "nbformat": 4,
 "nbformat_minor": 5
}
