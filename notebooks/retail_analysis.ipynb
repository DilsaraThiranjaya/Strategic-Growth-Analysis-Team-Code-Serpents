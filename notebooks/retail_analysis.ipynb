{
 "cells": [
  {
   "cell_type": "markdown",
   "id": "d5f90a6a",
   "metadata": {},
   "source": [
    "# Phase 3: Advanced Analytics - RFM Customer Segmentation\n",
    "\n",
    "**Team:** Code Serpents\n",
    "\n",
    "**Team Member:** G.A.Dilsara Thiranjaya\n",
    "\n",
    "---\n",
    "\n",
    "## Executive Summary\n",
    "\n",
    "This notebook implements a comprehensive RFM (Recency, Frequency, Monetary) analysis to segment customers of \"Unique Gifts Ltd.\" based on their purchasing behavior. The analysis will help identify high-value customers, at-risk segments, and opportunities for targeted marketing strategies.\n",
    "\n",
    "## Objectives\n",
    "\n",
    "1. **Calculate RFM Metrics**: Compute Recency, Frequency, and Monetary values for each customer\n",
    "2. **Assign RFM Scores**: Use quintile-based scoring (1-5) for each RFM dimension\n",
    "3. **Customer Segmentation**: Map RFM scores to descriptive business segments\n",
    "4. **Business Insights**: Generate actionable recommendations for each segment\n",
    "5. **Wholesaler Analysis**: Investigate the hypothesis of two distinct customer groups\n",
    "\n",
    "---"
   ]
  },
  {
   "cell_type": "markdown",
   "id": "02da7ff0",
   "metadata": {},
   "source": [
    "## 1. Setup and Data Loading"
   ]
  },
  {
   "cell_type": "code",
   "execution_count": 1,
   "id": "889af918",
   "metadata": {},
   "outputs": [
    {
     "name": "stdout",
     "output_type": "stream",
     "text": [
      "📦 All libraries imported successfully!\n",
      "📅 Analysis Date: 2025-08-19 09:30:49\n",
      "✅ Data loaded successfully: 13 rows, 13 columns\n",
      "\n",
      "📊 Dataset Overview:\n",
      "Shape: (13, 13)\n",
      "Date Range: 2009-12-01 07:45:00 to 2009-12-01 09:06:00\n",
      "Unique Customers: 2\n",
      "Total Transactions: 3\n",
      "Total Revenue: £710.60\n",
      "\n",
      "🔍 Sample Data:\n"
     ]
    },
    {
     "data": {
      "text/html": [
       "<div>\n",
       "<style scoped>\n",
       "    .dataframe tbody tr th:only-of-type {\n",
       "        vertical-align: middle;\n",
       "    }\n",
       "\n",
       "    .dataframe tbody tr th {\n",
       "        vertical-align: top;\n",
       "    }\n",
       "\n",
       "    .dataframe thead th {\n",
       "        text-align: right;\n",
       "    }\n",
       "</style>\n",
       "<table border=\"1\" class=\"dataframe\">\n",
       "  <thead>\n",
       "    <tr style=\"text-align: right;\">\n",
       "      <th></th>\n",
       "      <th>Invoice</th>\n",
       "      <th>StockCode</th>\n",
       "      <th>Description</th>\n",
       "      <th>Quantity</th>\n",
       "      <th>InvoiceDate</th>\n",
       "      <th>Price</th>\n",
       "      <th>Customer ID</th>\n",
       "      <th>Country</th>\n",
       "      <th>TotalPrice</th>\n",
       "      <th>Year</th>\n",
       "      <th>Month</th>\n",
       "      <th>DayOfWeek</th>\n",
       "      <th>HourOfDay</th>\n",
       "    </tr>\n",
       "  </thead>\n",
       "  <tbody>\n",
       "    <tr>\n",
       "      <th>0</th>\n",
       "      <td>489434</td>\n",
       "      <td>85048</td>\n",
       "      <td>15CM CHRISTMAS GLASS BALL 20 LIGHTS</td>\n",
       "      <td>12</td>\n",
       "      <td>2009-12-01 07:45:00</td>\n",
       "      <td>6.95</td>\n",
       "      <td>13085</td>\n",
       "      <td>United Kingdom</td>\n",
       "      <td>83.4</td>\n",
       "      <td>2009</td>\n",
       "      <td>12</td>\n",
       "      <td>1</td>\n",
       "      <td>7</td>\n",
       "    </tr>\n",
       "    <tr>\n",
       "      <th>1</th>\n",
       "      <td>489434</td>\n",
       "      <td>79323P</td>\n",
       "      <td>PINK CHERRY LIGHTS</td>\n",
       "      <td>12</td>\n",
       "      <td>2009-12-01 07:45:00</td>\n",
       "      <td>6.75</td>\n",
       "      <td>13085</td>\n",
       "      <td>United Kingdom</td>\n",
       "      <td>81.0</td>\n",
       "      <td>2009</td>\n",
       "      <td>12</td>\n",
       "      <td>1</td>\n",
       "      <td>7</td>\n",
       "    </tr>\n",
       "    <tr>\n",
       "      <th>2</th>\n",
       "      <td>489434</td>\n",
       "      <td>79323W</td>\n",
       "      <td>WHITE CHERRY LIGHTS</td>\n",
       "      <td>12</td>\n",
       "      <td>2009-12-01 07:45:00</td>\n",
       "      <td>6.75</td>\n",
       "      <td>13085</td>\n",
       "      <td>United Kingdom</td>\n",
       "      <td>81.0</td>\n",
       "      <td>2009</td>\n",
       "      <td>12</td>\n",
       "      <td>1</td>\n",
       "      <td>7</td>\n",
       "    </tr>\n",
       "    <tr>\n",
       "      <th>3</th>\n",
       "      <td>489434</td>\n",
       "      <td>22041</td>\n",
       "      <td>RECORD FRAME 7\" SINGLE SIZE</td>\n",
       "      <td>48</td>\n",
       "      <td>2009-12-01 07:45:00</td>\n",
       "      <td>2.10</td>\n",
       "      <td>13085</td>\n",
       "      <td>United Kingdom</td>\n",
       "      <td>100.8</td>\n",
       "      <td>2009</td>\n",
       "      <td>12</td>\n",
       "      <td>1</td>\n",
       "      <td>7</td>\n",
       "    </tr>\n",
       "    <tr>\n",
       "      <th>4</th>\n",
       "      <td>489434</td>\n",
       "      <td>21232</td>\n",
       "      <td>STRAWBERRY CERAMIC TRINKET BOX</td>\n",
       "      <td>24</td>\n",
       "      <td>2009-12-01 07:45:00</td>\n",
       "      <td>1.25</td>\n",
       "      <td>13085</td>\n",
       "      <td>United Kingdom</td>\n",
       "      <td>30.0</td>\n",
       "      <td>2009</td>\n",
       "      <td>12</td>\n",
       "      <td>1</td>\n",
       "      <td>7</td>\n",
       "    </tr>\n",
       "  </tbody>\n",
       "</table>\n",
       "</div>"
      ],
      "text/plain": [
       "   Invoice StockCode                          Description  Quantity  \\\n",
       "0   489434     85048  15CM CHRISTMAS GLASS BALL 20 LIGHTS        12   \n",
       "1   489434    79323P                   PINK CHERRY LIGHTS        12   \n",
       "2   489434    79323W                  WHITE CHERRY LIGHTS        12   \n",
       "3   489434     22041         RECORD FRAME 7\" SINGLE SIZE         48   \n",
       "4   489434     21232       STRAWBERRY CERAMIC TRINKET BOX        24   \n",
       "\n",
       "           InvoiceDate  Price  Customer ID         Country  TotalPrice  Year  \\\n",
       "0  2009-12-01 07:45:00   6.95        13085  United Kingdom        83.4  2009   \n",
       "1  2009-12-01 07:45:00   6.75        13085  United Kingdom        81.0  2009   \n",
       "2  2009-12-01 07:45:00   6.75        13085  United Kingdom        81.0  2009   \n",
       "3  2009-12-01 07:45:00   2.10        13085  United Kingdom       100.8  2009   \n",
       "4  2009-12-01 07:45:00   1.25        13085  United Kingdom        30.0  2009   \n",
       "\n",
       "   Month  DayOfWeek  HourOfDay  \n",
       "0     12          1          7  \n",
       "1     12          1          7  \n",
       "2     12          1          7  \n",
       "3     12          1          7  \n",
       "4     12          1          7  "
      ]
     },
     "metadata": {},
     "output_type": "display_data"
    }
   ],
   "source": [
    "# Import required libraries\n",
    "import sys\n",
    "import os\n",
    "\n",
    "# Add the src directory to Python path\n",
    "sys.path.append('../src')\n",
    "\n",
    "# Import our custom RFM analyzer\n",
    "from rfm_segmentation import RFMAnalyzer, load_and_validate_data\n",
    "\n",
    "# Standard libraries\n",
    "import pandas as pd\n",
    "import numpy as np\n",
    "import matplotlib.pyplot as plt\n",
    "import seaborn as sns\n",
    "from datetime import datetime\n",
    "import warnings\n",
    "warnings.filterwarnings('ignore')\n",
    "\n",
    "# Set display options\n",
    "pd.set_option('display.max_columns', None) # Display all columns of the DataFrame without truncation\n",
    "pd.set_option('display.max_rows', 100) # Display a maximum of 100 rows in the DataFrame\n",
    "\n",
    "print(\"📦 All libraries imported successfully!\")\n",
    "print(f\"📅 Analysis Date: {datetime.now().strftime('%Y-%m-%d %H:%M:%S')}\")\n",
    "\n",
    "# Load the cleaned data\n",
    "DATA_PATH = \"../data/online_retail_clean.csv\"\n",
    "\n",
    "data = load_and_validate_data(DATA_PATH)\n",
    "\n",
    "# Display basic information about the dataset\n",
    "print(\"\\n📊 Dataset Overview:\")\n",
    "print(f\"Shape: {data.shape}\")\n",
    "print(f\"Date Range: {data['InvoiceDate'].min()} to {data['InvoiceDate'].max()}\")\n",
    "print(f\"Unique Customers: {data['Customer ID'].nunique():,}\")\n",
    "print(f\"Total Transactions: {data['Invoice'].nunique():,}\")\n",
    "print(f\"Total Revenue: £{data['TotalPrice'].sum():,.2f}\")\n",
    "\n",
    "# Display first few rows\n",
    "print(\"\\n🔍 Sample Data:\")\n",
    "display(data.head())"
   ]
  },
  {
   "cell_type": "markdown",
   "id": "faad5592",
   "metadata": {},
   "source": [
    "## 2. RFM Analysis Implementation\n",
    "\n",
    "### 2.1 Initialize RFM Analyzer"
   ]
  },
  {
   "cell_type": "code",
   "execution_count": 2,
   "id": "3355714a",
   "metadata": {},
   "outputs": [
    {
     "name": "stdout",
     "output_type": "stream",
     "text": [
      "Data validation passed. All required columns are present.\n",
      "🚀 RFM Analyzer initialized successfully!\n",
      "Ready to perform comprehensive customer segmentation analysis.\n"
     ]
    }
   ],
   "source": [
    "# Initialize RFM analyzer\n",
    "rfm_analyzer = RFMAnalyzer(data)\n",
    "\n",
    "print(\"🚀 RFM Analyzer initialized successfully!\")\n",
    "print(\"Ready to perform comprehensive customer segmentation analysis.\")"
   ]
  },
  {
   "cell_type": "markdown",
   "id": "258d2bdb",
   "metadata": {},
   "source": [
    "### 2.2 Run Complete RFM Analysis"
   ]
  },
  {
   "cell_type": "code",
   "execution_count": 3,
   "id": "b9fe0e2c",
   "metadata": {},
   "outputs": [
    {
     "name": "stdout",
     "output_type": "stream",
     "text": [
      "🔄 Starting RFM Analysis...\n",
      "📊 Calculating RFM metrics...\n",
      "📈 Generating summary statistics...\n",
      "🏷️ Assigning RFM scores...\n"
     ]
    },
    {
     "ename": "ValueError",
     "evalue": "Bin labels must be one fewer than the number of bin edges",
     "output_type": "error",
     "traceback": [
      "\u001b[31m---------------------------------------------------------------------------\u001b[39m",
      "\u001b[31mValueError\u001b[39m                                Traceback (most recent call last)",
      "\u001b[36mCell\u001b[39m\u001b[36m \u001b[39m\u001b[32mIn[3]\u001b[39m\u001b[32m, line 2\u001b[39m\n\u001b[32m      1\u001b[39m \u001b[38;5;66;03m# Execute the complete RFM analysis workflow\u001b[39;00m\n\u001b[32m----> \u001b[39m\u001b[32m2\u001b[39m results = \u001b[43mrfm_analyzer\u001b[49m\u001b[43m.\u001b[49m\u001b[43mrun_complete_analysis\u001b[49m\u001b[43m(\u001b[49m\u001b[43m)\u001b[49m\n\u001b[32m      4\u001b[39m \u001b[38;5;66;03m# Extract results for easy access\u001b[39;00m\n\u001b[32m      5\u001b[39m rfm_data = results[\u001b[33m'\u001b[39m\u001b[33mrfm_data\u001b[39m\u001b[33m'\u001b[39m]\n",
      "\u001b[36mFile \u001b[39m\u001b[32mc:\\Users\\ACER\\Documents\\VS Code Projects\\Strategic-Growth-Analysis-Team-Code-Serpents\\notebooks\\../src\\rfm_segmentation.py:309\u001b[39m, in \u001b[36mRFMAnalyzer.run_complete_analysis\u001b[39m\u001b[34m(self)\u001b[39m\n\u001b[32m    307\u001b[39m \u001b[38;5;66;03m# Step 3: Assign RFM scores\u001b[39;00m\n\u001b[32m    308\u001b[39m \u001b[38;5;28mprint\u001b[39m(\u001b[33m\"\u001b[39m\u001b[33m🏷️ Assigning RFM scores...\u001b[39m\u001b[33m\"\u001b[39m)\n\u001b[32m--> \u001b[39m\u001b[32m309\u001b[39m \u001b[38;5;28mself\u001b[39m.rfm_scored = \u001b[38;5;28;43mself\u001b[39;49m\u001b[43m.\u001b[49m\u001b[43mscorer\u001b[49m\u001b[43m.\u001b[49m\u001b[43massign_rfm_scores\u001b[49m\u001b[43m(\u001b[49m\u001b[38;5;28;43mself\u001b[39;49m\u001b[43m.\u001b[49m\u001b[43mrfm_data\u001b[49m\u001b[43m)\u001b[49m\n\u001b[32m    311\u001b[39m \u001b[38;5;66;03m# Step 4: Assign segment labels\u001b[39;00m\n\u001b[32m    312\u001b[39m \u001b[38;5;28mprint\u001b[39m(\u001b[33m\"\u001b[39m\u001b[33m🎯 Assigning segment labels...\u001b[39m\u001b[33m\"\u001b[39m)\n",
      "\u001b[36mFile \u001b[39m\u001b[32mc:\\Users\\ACER\\Documents\\VS Code Projects\\Strategic-Growth-Analysis-Team-Code-Serpents\\notebooks\\../src\\rfm_segmentation.py:104\u001b[39m, in \u001b[36mRFMScorer.assign_rfm_scores\u001b[39m\u001b[34m(self, rfm_data)\u001b[39m\n\u001b[32m    100\u001b[39m rfm_scored_data = rfm_data.copy()\n\u001b[32m    102\u001b[39m \u001b[38;5;66;03m# Assign scores using quintiles\u001b[39;00m\n\u001b[32m    103\u001b[39m \u001b[38;5;66;03m# For Recency: lower values (recent) get higher scores\u001b[39;00m\n\u001b[32m--> \u001b[39m\u001b[32m104\u001b[39m rfm_scored_data[\u001b[33m'\u001b[39m\u001b[33mR_Score\u001b[39m\u001b[33m'\u001b[39m] = \u001b[43mpd\u001b[49m\u001b[43m.\u001b[49m\u001b[43mqcut\u001b[49m\u001b[43m(\u001b[49m\u001b[43mrfm_scored_data\u001b[49m\u001b[43m[\u001b[49m\u001b[33;43m'\u001b[39;49m\u001b[33;43mRecency\u001b[39;49m\u001b[33;43m'\u001b[39;49m\u001b[43m]\u001b[49m\u001b[43m,\u001b[49m\u001b[43m \u001b[49m\u001b[43mq\u001b[49m\u001b[43m=\u001b[49m\u001b[32;43m5\u001b[39;49m\u001b[43m,\u001b[49m\u001b[43m \u001b[49m\u001b[43mlabels\u001b[49m\u001b[43m=\u001b[49m\u001b[43m[\u001b[49m\u001b[32;43m5\u001b[39;49m\u001b[43m,\u001b[49m\u001b[43m \u001b[49m\u001b[32;43m4\u001b[39;49m\u001b[43m,\u001b[49m\u001b[43m \u001b[49m\u001b[32;43m3\u001b[39;49m\u001b[43m,\u001b[49m\u001b[43m \u001b[49m\u001b[32;43m2\u001b[39;49m\u001b[43m,\u001b[49m\u001b[43m \u001b[49m\u001b[32;43m1\u001b[39;49m\u001b[43m]\u001b[49m\u001b[43m,\u001b[49m\u001b[43m \u001b[49m\u001b[43mduplicates\u001b[49m\u001b[43m=\u001b[49m\u001b[33;43m'\u001b[39;49m\u001b[33;43mdrop\u001b[39;49m\u001b[33;43m'\u001b[39;49m\u001b[43m)\u001b[49m\n\u001b[32m    106\u001b[39m \u001b[38;5;66;03m# For Frequency: higher values (frequent) get higher scores\u001b[39;00m\n\u001b[32m    107\u001b[39m rfm_scored_data[\u001b[33m'\u001b[39m\u001b[33mF_Score\u001b[39m\u001b[33m'\u001b[39m] = pd.qcut(rfm_scored_data[\u001b[33m'\u001b[39m\u001b[33mFrequency\u001b[39m\u001b[33m'\u001b[39m].rank(method=\u001b[33m'\u001b[39m\u001b[33mfirst\u001b[39m\u001b[33m'\u001b[39m), q=\u001b[32m5\u001b[39m, labels=[\u001b[32m1\u001b[39m, \u001b[32m2\u001b[39m, \u001b[32m3\u001b[39m, \u001b[32m4\u001b[39m, \u001b[32m5\u001b[39m], duplicates=\u001b[33m'\u001b[39m\u001b[33mdrop\u001b[39m\u001b[33m'\u001b[39m)\n",
      "\u001b[36mFile \u001b[39m\u001b[32m~\\AppData\\Local\\Packages\\PythonSoftwareFoundation.Python.3.13_qbz5n2kfra8p0\\LocalCache\\local-packages\\Python313\\site-packages\\pandas\\core\\reshape\\tile.py:340\u001b[39m, in \u001b[36mqcut\u001b[39m\u001b[34m(x, q, labels, retbins, precision, duplicates)\u001b[39m\n\u001b[32m    336\u001b[39m quantiles = np.linspace(\u001b[32m0\u001b[39m, \u001b[32m1\u001b[39m, q + \u001b[32m1\u001b[39m) \u001b[38;5;28;01mif\u001b[39;00m is_integer(q) \u001b[38;5;28;01melse\u001b[39;00m q\n\u001b[32m    338\u001b[39m bins = x_idx.to_series().dropna().quantile(quantiles)\n\u001b[32m--> \u001b[39m\u001b[32m340\u001b[39m fac, bins = \u001b[43m_bins_to_cuts\u001b[49m\u001b[43m(\u001b[49m\n\u001b[32m    341\u001b[39m \u001b[43m    \u001b[49m\u001b[43mx_idx\u001b[49m\u001b[43m,\u001b[49m\n\u001b[32m    342\u001b[39m \u001b[43m    \u001b[49m\u001b[43mIndex\u001b[49m\u001b[43m(\u001b[49m\u001b[43mbins\u001b[49m\u001b[43m)\u001b[49m\u001b[43m,\u001b[49m\n\u001b[32m    343\u001b[39m \u001b[43m    \u001b[49m\u001b[43mlabels\u001b[49m\u001b[43m=\u001b[49m\u001b[43mlabels\u001b[49m\u001b[43m,\u001b[49m\n\u001b[32m    344\u001b[39m \u001b[43m    \u001b[49m\u001b[43mprecision\u001b[49m\u001b[43m=\u001b[49m\u001b[43mprecision\u001b[49m\u001b[43m,\u001b[49m\n\u001b[32m    345\u001b[39m \u001b[43m    \u001b[49m\u001b[43minclude_lowest\u001b[49m\u001b[43m=\u001b[49m\u001b[38;5;28;43;01mTrue\u001b[39;49;00m\u001b[43m,\u001b[49m\n\u001b[32m    346\u001b[39m \u001b[43m    \u001b[49m\u001b[43mduplicates\u001b[49m\u001b[43m=\u001b[49m\u001b[43mduplicates\u001b[49m\u001b[43m,\u001b[49m\n\u001b[32m    347\u001b[39m \u001b[43m\u001b[49m\u001b[43m)\u001b[49m\n\u001b[32m    349\u001b[39m \u001b[38;5;28;01mreturn\u001b[39;00m _postprocess_for_cut(fac, bins, retbins, original)\n",
      "\u001b[36mFile \u001b[39m\u001b[32m~\\AppData\\Local\\Packages\\PythonSoftwareFoundation.Python.3.13_qbz5n2kfra8p0\\LocalCache\\local-packages\\Python313\\site-packages\\pandas\\core\\reshape\\tile.py:493\u001b[39m, in \u001b[36m_bins_to_cuts\u001b[39m\u001b[34m(x_idx, bins, right, labels, precision, include_lowest, duplicates, ordered)\u001b[39m\n\u001b[32m    491\u001b[39m \u001b[38;5;28;01melse\u001b[39;00m:\n\u001b[32m    492\u001b[39m     \u001b[38;5;28;01mif\u001b[39;00m \u001b[38;5;28mlen\u001b[39m(labels) != \u001b[38;5;28mlen\u001b[39m(bins) - \u001b[32m1\u001b[39m:\n\u001b[32m--> \u001b[39m\u001b[32m493\u001b[39m         \u001b[38;5;28;01mraise\u001b[39;00m \u001b[38;5;167;01mValueError\u001b[39;00m(\n\u001b[32m    494\u001b[39m             \u001b[33m\"\u001b[39m\u001b[33mBin labels must be one fewer than the number of bin edges\u001b[39m\u001b[33m\"\u001b[39m\n\u001b[32m    495\u001b[39m         )\n\u001b[32m    497\u001b[39m \u001b[38;5;28;01mif\u001b[39;00m \u001b[38;5;129;01mnot\u001b[39;00m \u001b[38;5;28misinstance\u001b[39m(\u001b[38;5;28mgetattr\u001b[39m(labels, \u001b[33m\"\u001b[39m\u001b[33mdtype\u001b[39m\u001b[33m\"\u001b[39m, \u001b[38;5;28;01mNone\u001b[39;00m), CategoricalDtype):\n\u001b[32m    498\u001b[39m     labels = Categorical(\n\u001b[32m    499\u001b[39m         labels,\n\u001b[32m    500\u001b[39m         categories=labels \u001b[38;5;28;01mif\u001b[39;00m \u001b[38;5;28mlen\u001b[39m(\u001b[38;5;28mset\u001b[39m(labels)) == \u001b[38;5;28mlen\u001b[39m(labels) \u001b[38;5;28;01melse\u001b[39;00m \u001b[38;5;28;01mNone\u001b[39;00m,\n\u001b[32m    501\u001b[39m         ordered=ordered,\n\u001b[32m    502\u001b[39m     )\n",
      "\u001b[31mValueError\u001b[39m: Bin labels must be one fewer than the number of bin edges"
     ]
    }
   ],
   "source": [
    "# Execute the complete RFM analysis workflow\n",
    "results = rfm_analyzer.run_complete_analysis()\n",
    "\n",
    "# Extract results for easy access\n",
    "rfm_data = results['rfm_data']\n",
    "rfm_scored = results['rfm_scored']\n",
    "rfm_final = results['rfm_final']\n",
    "segment_summary = results['segment_summary']\n",
    "summary_stats = results['summary_stats']\n",
    "\n",
    "print(\"\\n✅ RFM Analysis completed successfully!\")"
   ]
  },
  {
   "cell_type": "markdown",
   "id": "b53a7171",
   "metadata": {},
   "source": [
    "## 3. RFM Metrics Analysis\n",
    "\n",
    "### 3.1 Basic RFM Statistics"
   ]
  },
  {
   "cell_type": "code",
   "execution_count": null,
   "id": "f14dac1e",
   "metadata": {},
   "outputs": [],
   "source": []
  },
  {
   "cell_type": "markdown",
   "id": "ac9bb5e4",
   "metadata": {},
   "source": [
    "### 3.2 RFM Scores and Segments"
   ]
  },
  {
   "cell_type": "code",
   "execution_count": null,
   "id": "b8db5ec7",
   "metadata": {},
   "outputs": [],
   "source": []
  },
  {
   "cell_type": "markdown",
   "id": "e6386f07",
   "metadata": {},
   "source": [
    "## 4. Customer Segment Analysis\n",
    "\n",
    "### 4.1 Segment Summary Statistics"
   ]
  },
  {
   "cell_type": "code",
   "execution_count": null,
   "id": "602c3213",
   "metadata": {},
   "outputs": [],
   "source": []
  },
  {
   "cell_type": "markdown",
   "id": "914c1ce9",
   "metadata": {},
   "source": [
    "### 4.2 Detailed Segment Characteristics"
   ]
  },
  {
   "cell_type": "code",
   "execution_count": null,
   "id": "823db1f0",
   "metadata": {},
   "outputs": [],
   "source": []
  },
  {
   "cell_type": "markdown",
   "id": "da585679",
   "metadata": {},
   "source": [
    "## 5. Data Visualizations\n",
    "\n",
    "### 5.1 Generate All Visualizations"
   ]
  },
  {
   "cell_type": "code",
   "execution_count": null,
   "id": "e28f4338",
   "metadata": {},
   "outputs": [],
   "source": []
  },
  {
   "cell_type": "markdown",
   "id": "0b79ed2a",
   "metadata": {},
   "source": [
    "### 5.2 RFM Distributions Analysis\n",
    "\n",
    "**Analysis of RFM Distributions:**\n",
    "\n",
    "- **Recency Distribution**: Shows the distribution of days since last purchase. A right-skewed distribution indicates most customers purchased recently, with a tail of customers who haven't purchased in a long time.\n",
    "\n",
    "- **Frequency Distribution**: Displays the number of transactions per customer. Typically right-skewed, showing most customers make few purchases, while a small group makes many purchases.\n",
    "\n",
    "- **Monetary Distribution (Log Scale)**: Shows customer spending patterns. The log scale helps visualize the wide range of spending behaviors and potential bimodal distribution suggesting retail vs. wholesale customers.\n",
    "\n",
    "- **Box Plot**: The monetary box plot is crucial for investigating the wholesaler hypothesis - extreme outliers may indicate wholesale customers."
   ]
  },
  {
   "cell_type": "code",
   "execution_count": null,
   "id": "08b639a7",
   "metadata": {},
   "outputs": [],
   "source": []
  },
  {
   "cell_type": "markdown",
   "id": "bec9542a",
   "metadata": {},
   "source": [
    "### 5.3 Customer Segment Analysis\n",
    "\n",
    "**Segment Analysis Insights:**\n",
    "\n",
    "- **Customer Count by Segment**: Shows the relative size of each customer segment\n",
    "- **Revenue Distribution**: Reveals which segments contribute most to total revenue\n",
    "- **Average Monetary Value**: Identifies the highest-spending segments\n",
    "- **Customer Distribution**: Provides overview of segment composition"
   ]
  },
  {
   "cell_type": "code",
   "execution_count": null,
   "id": "afad0f86",
   "metadata": {},
   "outputs": [],
   "source": []
  },
  {
   "cell_type": "markdown",
   "id": "91adc00c",
   "metadata": {},
   "source": [
    "## 6. Export Results\n",
    "\n",
    "### 7.1 Export to Excel and Save charts"
   ]
  },
  {
   "cell_type": "code",
   "execution_count": null,
   "id": "7e57f9bb",
   "metadata": {},
   "outputs": [],
   "source": []
  },
  {
   "cell_type": "markdown",
   "id": "f77195c3",
   "metadata": {},
   "source": [
    "### 7.2 Save Key DataFrames for Integration"
   ]
  },
  {
   "cell_type": "code",
   "execution_count": null,
   "id": "397cd7de",
   "metadata": {},
   "outputs": [],
   "source": []
  }
 ],
 "metadata": {
  "kernelspec": {
   "display_name": "Python 3",
   "language": "python",
   "name": "python3"
  },
  "language_info": {
   "codemirror_mode": {
    "name": "ipython",
    "version": 3
   },
   "file_extension": ".py",
   "mimetype": "text/x-python",
   "name": "python",
   "nbconvert_exporter": "python",
   "pygments_lexer": "ipython3",
   "version": "3.13.7"
  }
 },
 "nbformat": 4,
 "nbformat_minor": 5
}
